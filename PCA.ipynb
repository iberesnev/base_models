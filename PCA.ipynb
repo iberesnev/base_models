{
 "cells": [
  {
   "cell_type": "code",
   "execution_count": 183,
   "metadata": {},
   "outputs": [],
   "source": [
    "import numpy as np\n",
    "import pandas as pd\n",
    "\n",
    "\n",
    "class MyPCA():\n",
    "    def __init__(self, n_components: int = 3):\n",
    "        self.n_components = n_components\n",
    "        \n",
    "    def __repr__(self):\n",
    "        return f'MyPCA class: n_components={self.n_components}'\n",
    "    \n",
    "    def __str__(self):\n",
    "        return f'MyPCA class: n_components={self.n_components}'\n",
    "    \n",
    "    def fit_transform(self, X: pd.DataFrame):\n",
    "        X_centered = X - X.mean(axis=0)\n",
    "        cov_matrix = np.cov(X_centered, rowvar=False)\n",
    "        \n",
    "        eginvalues, eginvectors = np.linalg.eigh(cov_matrix)\n",
    "        eginvalues = eginvalues[::-1]\n",
    "        eginvectors = eginvectors[:, np.argsort(eginvalues)]\n",
    "        \n",
    "        n_eginvectors = eginvectors[:, list(range(self.n_components))]\n",
    "        \n",
    "        return X_centered @ n_eginvectors"
   ]
  },
  {
   "cell_type": "code",
   "execution_count": 186,
   "metadata": {},
   "outputs": [
    {
     "data": {
      "text/plain": [
       "array([[4, 1, 3, 3, 2],\n",
       "       [2, 4, 2, 3, 4],\n",
       "       [1, 2, 1, 2, 1],\n",
       "       [4, 2, 3, 1, 1],\n",
       "       [3, 3, 4, 1, 2],\n",
       "       [3, 4, 4, 3, 3],\n",
       "       [3, 2, 1, 4, 3],\n",
       "       [2, 3, 4, 1, 4],\n",
       "       [2, 1, 1, 1, 1],\n",
       "       [2, 2, 3, 4, 1]])"
      ]
     },
     "execution_count": 186,
     "metadata": {},
     "output_type": "execute_result"
    }
   ],
   "source": [
    "X = np.random.randint(1, 5, size=(10, 5))\n",
    "X"
   ]
  },
  {
   "cell_type": "code",
   "execution_count": 188,
   "metadata": {},
   "outputs": [
    {
     "data": {
      "text/plain": [
       "array([[ 0.52206978,  0.28624109, -1.86818683],\n",
       "       [-1.61714   , -1.77676512,  0.98208844],\n",
       "       [ 2.00546157, -0.53157307,  1.41386496],\n",
       "       [ 0.63935932,  1.98530165, -0.65203467],\n",
       "       [-0.98707603,  1.75433436,  0.13343687],\n",
       "       [-2.2197881 , -0.21344754, -0.56653345],\n",
       "       [ 0.53295687, -2.16612291, -0.64611613],\n",
       "       [-2.10557737,  0.84477435,  1.21245423],\n",
       "       [ 2.50192129,  0.61893391,  1.08384474],\n",
       "       [ 0.72781267, -0.80167672, -1.09281817]])"
      ]
     },
     "execution_count": 188,
     "metadata": {},
     "output_type": "execute_result"
    }
   ],
   "source": [
    "q = MyPCA(3)\n",
    "q.fit_transform(X)"
   ]
  }
 ],
 "metadata": {
  "kernelspec": {
   "display_name": "Python 3",
   "language": "python",
   "name": "python3"
  },
  "language_info": {
   "codemirror_mode": {
    "name": "ipython",
    "version": 3
   },
   "file_extension": ".py",
   "mimetype": "text/x-python",
   "name": "python",
   "nbconvert_exporter": "python",
   "pygments_lexer": "ipython3",
   "version": "3.9.6"
  }
 },
 "nbformat": 4,
 "nbformat_minor": 2
}
