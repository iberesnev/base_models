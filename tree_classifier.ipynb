{
 "cells": [
  {
   "cell_type": "code",
   "execution_count": 125,
   "metadata": {},
   "outputs": [],
   "source": [
    "import numpy as np\n",
    "import pandas as pd\n",
    "\n",
    "class MyTreeClf():\n",
    "    def __init__(self, max_depth, min_samples_split, max_leafs) -> None:\n",
    "        self.max_depth = max_depth\n",
    "        self.min_samples_split = min_samples_split\n",
    "        self.max_leafs = max_leafs\n",
    "        self.leafs_cnt = 0\n",
    "\n",
    "        self.lst = []\n",
    "\n",
    "    def __str__(self) -> str:\n",
    "        return f\"MyTreeClf class: max_depth={self.max_depth}, min_samples_split={self.min_samples_split}, max_leafs={self.max_leafs}\"\n",
    "\n",
    "    def __repr__(self) -> str:\n",
    "        return f\"MyTreeClf class: max_depth={self.max_depth}, min_samples_split={self.min_samples_split}, max_leafs={self.max_leafs}\"\n",
    "    \n",
    "    def get_best_split(self, X, y):\n",
    "        main_dict = {}\n",
    "\n",
    "        def S(p_0, p_1):\n",
    "            if p_0 != 0:\n",
    "                part_p_0 = p_0 * np.log2(p_0)\n",
    "            else:\n",
    "                part_p_0 = 0\n",
    "            if p_1 != 0:\n",
    "                part_p_1 = p_1 * np.log2(p_1)\n",
    "            else:\n",
    "                part_p_1 = 0\n",
    "            return -np.sum(part_p_0 + part_p_1)\n",
    "\n",
    "        for col in X.columns:\n",
    "            one_col = np.sort(X[col].unique())\n",
    "            tresholds = one_col[:-1] + np.diff(one_col) / 2\n",
    "\n",
    "            prob_zero = np.sum(y==0) / len(y)\n",
    "            proba_one = np.sum(y==1) / len(y)\n",
    "            S_0 = S(prob_zero, proba_one)\n",
    "\n",
    "            for treshold in tresholds:\n",
    "\n",
    "                y_right = y[X[col] <= treshold]\n",
    "                prob_zero_left = np.sum(y_right==0) / len(y_right)\n",
    "                prob_one_left  = np.sum(y_right==1) / len(y_right)\n",
    "                S_left = S(prob_zero_left, prob_one_left)* len(y_right)/len(y)\n",
    "\n",
    "                y_left = y[X[col] > treshold]\n",
    "                prob_zero_right = np.sum(y_left==0) / len(y_left)\n",
    "                prob_one_right  = np.sum(y_left==1) / len(y_left)\n",
    "                S_right = S(prob_zero_right, prob_one_right) * len(y_left)/len(y)\n",
    "\n",
    "                IG = S_0 - (S_left + S_right)\n",
    "                if IG in main_dict.keys():\n",
    "                    pass\n",
    "                else:\n",
    "                    main_dict[IG] = (treshold, col)\n",
    "        best_split = max(main_dict.keys())\n",
    "        return main_dict[best_split][1], main_dict[best_split][0], best_split\n",
    "\n",
    "    def node_or_list(self, y, current_depth):\n",
    "        if len(y) == 1 or \\\n",
    "        y.nunique() == 1 or\\\n",
    "        self.min_samples_split > len(y) or\\\n",
    "        self.max_leafs <= self.leafs_cnt or\\\n",
    "        current_depth >= self.max_depth:\n",
    "            return True\n",
    "\n",
    "# Минимально допустимое число объектов в узле для разбиения.\n",
    "\n",
    "\n",
    "    def fit(self, X, y, current_depth=0):\n",
    "\n",
    "        if self.node_or_list(y, current_depth):\n",
    "            return self\n",
    "        else:\n",
    "            if self.leafs_cnt == 0:\n",
    "                self.leafs_cnt += 2\n",
    "            else:\n",
    "                self.leafs_cnt += 1\n",
    "            feature, thresh, ig = self.get_best_split(X, y)\n",
    "            X_left = X[X[feature] > thresh]\n",
    "            y_left = y[X[feature] > thresh]\n",
    "\n",
    "            X_right = X[X[feature] <= thresh]\n",
    "            y_right = y[X[feature] <= thresh]\n",
    "            \n",
    "            self.lst.append(f'{feature} > {thresh}')\n",
    "            print(self.leafs_cnt)\n",
    "            # self.leafs_cnt += 1\n",
    "\n",
    "            # first recur\n",
    "            self.fit(X_left, y_left, current_depth+1)\n",
    "\n",
    "            # second recur\n",
    "            self.lst.append(f'{feature} <= {thresh}')\n",
    "            self.fit(X_right, y_right, current_depth+1)\n",
    "        print(self.lst)\n",
    "\n",
    "            \n",
    "            \n",
    "        "
   ]
  },
  {
   "cell_type": "code",
   "execution_count": 126,
   "metadata": {},
   "outputs": [
    {
     "name": "stdout",
     "output_type": "stream",
     "text": [
      "2\n",
      "3\n",
      "['Feature 1 > 0.320165', 'Feature 1 > 1.7907000000000002', 'Feature 1 <= 1.7907000000000002']\n",
      "4\n",
      "['Feature 1 > 0.320165', 'Feature 1 > 1.7907000000000002', 'Feature 1 <= 1.7907000000000002', 'Feature 1 <= 0.320165', 'Feature 2 > 5.86535', 'Feature 2 <= 5.86535']\n",
      "['Feature 1 > 0.320165', 'Feature 1 > 1.7907000000000002', 'Feature 1 <= 1.7907000000000002', 'Feature 1 <= 0.320165', 'Feature 2 > 5.86535', 'Feature 2 <= 5.86535']\n"
     ]
    }
   ],
   "source": [
    "test = MyTreeClf(2, 5, 8)\n",
    "test.fit(X, y)"
   ]
  },
  {
   "cell_type": "code",
   "execution_count": 106,
   "metadata": {},
   "outputs": [
    {
     "data": {
      "text/plain": [
       "1372"
      ]
     },
     "execution_count": 106,
     "metadata": {},
     "output_type": "execute_result"
    }
   ],
   "source": [
    "len(y)"
   ]
  },
  {
   "cell_type": "code",
   "execution_count": 20,
   "metadata": {},
   "outputs": [],
   "source": [
    "# base recurse\n",
    "def rec(x):\n",
    "    if x == 1:\n",
    "        return x\n",
    "    else:\n",
    "        return x + rec(x-1)"
   ]
  },
  {
   "cell_type": "code",
   "execution_count": 28,
   "metadata": {},
   "outputs": [],
   "source": [
    "def fit(x):\n",
    "    if x == 1:\n",
    "        return x\n",
    "    else:\n",
    "        return x + rec(x-1)"
   ]
  },
  {
   "cell_type": "code",
   "execution_count": 29,
   "metadata": {},
   "outputs": [
    {
     "data": {
      "text/plain": [
       "21"
      ]
     },
     "execution_count": 29,
     "metadata": {},
     "output_type": "execute_result"
    }
   ],
   "source": [
    "fit(6)"
   ]
  },
  {
   "cell_type": "code",
   "execution_count": 25,
   "metadata": {},
   "outputs": [
    {
     "data": {
      "text/plain": [
       "21"
      ]
     },
     "execution_count": 25,
     "metadata": {},
     "output_type": "execute_result"
    }
   ],
   "source": [
    "rec(6)"
   ]
  },
  {
   "cell_type": "code",
   "execution_count": 32,
   "metadata": {},
   "outputs": [],
   "source": [
    "import pandas as pd\n",
    "import numpy as np"
   ]
  },
  {
   "cell_type": "code",
   "execution_count": 33,
   "metadata": {},
   "outputs": [],
   "source": [
    "data = pd.read_csv('data-banknote-authentication.csv')\n",
    "\n",
    "model = MyTreeClf(1, 2, 3)"
   ]
  },
  {
   "cell_type": "code",
   "execution_count": 34,
   "metadata": {},
   "outputs": [],
   "source": [
    "X = data.drop('target', axis=1)\n",
    "y = data['target']"
   ]
  },
  {
   "cell_type": "code",
   "execution_count": 18,
   "metadata": {},
   "outputs": [
    {
     "data": {
      "text/plain": [
       "('Feature 1', 0.320165, 0.3996118627447959)"
      ]
     },
     "execution_count": 18,
     "metadata": {},
     "output_type": "execute_result"
    }
   ],
   "source": [
    "model.get_best_split(X, y)"
   ]
  },
  {
   "cell_type": "code",
   "execution_count": 235,
   "metadata": {},
   "outputs": [],
   "source": [
    "X = pd.DataFrame({'test_1':[x for x in range(50)]})\n",
    "                #   , 'test_2':[x for x in range(50, 0, -1)]})\n",
    "X.head()\n",
    "# y = np.random.randint(0, 2, (50, 1))\n",
    "y = np.array([1 if x < 1 else 0 for x in range(50)])"
   ]
  },
  {
   "cell_type": "code",
   "execution_count": 109,
   "metadata": {},
   "outputs": [
    {
     "data": {
      "text/plain": [
       "array([1, 0, 0, 0, 0, 0, 0, 0, 0, 0, 0, 0, 0, 0, 0, 0, 0, 0, 0, 0, 0, 0,\n",
       "       0, 0, 0, 0, 0, 0, 0, 0, 0, 0, 0, 0, 0, 0, 0, 0, 0, 0, 0, 0, 0, 0,\n",
       "       0, 0, 0, 0, 0, 0])"
      ]
     },
     "execution_count": 109,
     "metadata": {},
     "output_type": "execute_result"
    }
   ],
   "source": [
    "import numpy as np\n",
    "\n",
    "arr = np.array([5, 10, 15, 100])\n",
    "y"
   ]
  },
  {
   "cell_type": "code",
   "execution_count": 29,
   "metadata": {},
   "outputs": [],
   "source": [
    "interpolated_values = arr[:-1] + np.diff(arr) / 2"
   ]
  },
  {
   "cell_type": "code",
   "execution_count": 30,
   "metadata": {},
   "outputs": [
    {
     "data": {
      "text/plain": [
       "array([ 7.5, 12.5, 57.5])"
      ]
     },
     "execution_count": 30,
     "metadata": {},
     "output_type": "execute_result"
    }
   ],
   "source": [
    "interpolated_values"
   ]
  },
  {
   "cell_type": "code",
   "execution_count": 117,
   "metadata": {},
   "outputs": [],
   "source": [
    "def get_best_split(X, y):\n",
    "    \n",
    "    main_dict = {}\n",
    "\n",
    "    def S(p_0, p_1):\n",
    "        if p_0 != 0:\n",
    "            part_p_0 = p_0 * np.log2(p_0)\n",
    "        else:\n",
    "            part_p_0 = 0\n",
    "        if p_1 != 0:\n",
    "            part_p_1 = p_1 * np.log2(p_1)\n",
    "        else:\n",
    "            part_p_1 = 0\n",
    "        return -np.sum(part_p_0 + part_p_1)\n",
    "\n",
    "    for col in X.columns:\n",
    "        one_col = np.sort(X[col].unique())\n",
    "        tresholds = one_col[:-1] + np.diff(one_col) / 2\n",
    "\n",
    "        prob_zero = np.sum(y==0) / len(y)\n",
    "        proba_one = np.sum(y==1) / len(y)\n",
    "        S_0 = S(prob_zero, proba_one)\n",
    "\n",
    "        for treshold in tresholds:\n",
    "\n",
    "            y_left = y[X[col] <= treshold]\n",
    "            prob_zero_left = np.sum(y_left==0) / len(y_left)\n",
    "            prob_one_left  = np.sum(y_left==1) / len(y_left)\n",
    "            S_left = S(prob_zero_left, prob_one_left)* len(y_left)/len(y)\n",
    "\n",
    "            y_right = y[X[col] > treshold]\n",
    "            prob_zero_right = np.sum(y_right==0) / len(y_right)\n",
    "            prob_one_right  = np.sum(y_right==1) / len(y_right)\n",
    "            S_right = S(prob_zero_right, prob_one_right) * len(y_right)/len(y)\n",
    "\n",
    "            IG = S_0 - (S_left + S_right)\n",
    "            if IG in main_dict.keys():\n",
    "                pass\n",
    "            else:\n",
    "                main_dict[IG] = (treshold, col)\n",
    "    best_split = max(main_dict.keys())\n",
    "    return main_dict[best_split][1], main_dict[best_split][0], best_split\n"
   ]
  }
 ],
 "metadata": {
  "kernelspec": {
   "display_name": "Python 3",
   "language": "python",
   "name": "python3"
  },
  "language_info": {
   "codemirror_mode": {
    "name": "ipython",
    "version": 3
   },
   "file_extension": ".py",
   "mimetype": "text/x-python",
   "name": "python",
   "nbconvert_exporter": "python",
   "pygments_lexer": "ipython3",
   "version": "3.9.6"
  },
  "orig_nbformat": 4
 },
 "nbformat": 4,
 "nbformat_minor": 2
}
